{
 "cells": [
  {
   "cell_type": "markdown",
   "id": "f9293568-e50b-42d7-86c3-ea9d29882982",
   "metadata": {},
   "source": [
    "**Assignment no 3**"
   ]
  },
  {
   "cell_type": "markdown",
   "id": "fd504d3e-c09b-4db8-8f6c-f8aa1380013a",
   "metadata": {},
   "source": [
    "**Q1)1. Ramesh’s basic salary is input through the keyboard. His dearness allowance is 40% of basic salary, and \n",
    "house rent allowance is 20% of basic salary. Write a program to calculate his gross salary.**"
   ]
  },
  {
   "cell_type": "code",
   "execution_count": 8,
   "id": "284a703c-417e-4dd3-b47f-13527c9a219a",
   "metadata": {},
   "outputs": [
    {
     "name": "stdin",
     "output_type": "stream",
     "text": [
      "Enter the salary :  50000\n"
     ]
    },
    {
     "name": "stdout",
     "output_type": "stream",
     "text": [
      "The total gross salary is 74000.0\n"
     ]
    }
   ],
   "source": [
    "basic_salary=eval(input(\"Enter the salary : \"))\n",
    "d=(basic_salary*40/100)\n",
    "h=(basic_salary*20/100)\n",
    "gross_salary=(basic_salary+d_allowance+h_allowance)\n",
    "print(f\"The total gross salary is {gross_salary}\")"
   ]
  },
  {
   "cell_type": "markdown",
   "id": "ac1132da-67c6-4025-aac1-e4b14ba3aae8",
   "metadata": {},
   "source": [
    "**Q2). The distance between two cities (in km.) is input through the keyboard. Write a program to convert and \n",
    "print this distance in meters, feet, inches and centimeters.**"
   ]
  },
  {
   "cell_type": "code",
   "execution_count": 10,
   "id": "e5317288-391b-4c6a-a25d-14a35929b3d7",
   "metadata": {},
   "outputs": [
    {
     "name": "stdin",
     "output_type": "stream",
     "text": [
      "Enter the distance between two cities in km. : 18\n"
     ]
    },
    {
     "name": "stdout",
     "output_type": "stream",
     "text": [
      "The distances are in meter is 18000 , in feet is 59055.12 , in inches is 708660 and in centimeter ias 1800000.\n"
     ]
    }
   ],
   "source": [
    "distance=eval(input(\"Enter the distance between two cities in km. :\"))\n",
    "meter=distance*1000\n",
    "feet=distance*3280.84\n",
    "inch=distance*39370\n",
    "cm=distance*100000\n",
    "print(f\"The distances are in meter is {meter} , in feet is {feet} , in inches is {inch} and in centimeter ias {cm}.\")"
   ]
  },
  {
   "cell_type": "markdown",
   "id": "1bf9053a-9b0c-4d17-b4b5-dc5d34b6a38c",
   "metadata": {},
   "source": [
    "**Q3) If the marks obtained by a student in five different subjects are input through the keyboard, find out the \n",
    "aggregate marks and percentage marks obtained by the student. Assume that the maximum marks that \n",
    "can be obtained by a student in each subject is 100.**"
   ]
  },
  {
   "cell_type": "code",
   "execution_count": 12,
   "id": "6cee32f2-4240-4498-8bd5-da917a645b54",
   "metadata": {},
   "outputs": [
    {
     "name": "stdin",
     "output_type": "stream",
     "text": [
      "Enter the marks in sub 1 : 100\n",
      "Enter the marks in sub 2 : 100\n",
      "Enter the marks in sub 3 : 100\n",
      "Enter the marks in sub 4 : 100\n",
      "Enter the marks in sub 5 : 100\n"
     ]
    },
    {
     "name": "stdout",
     "output_type": "stream",
     "text": [
      "The total marks is 500 and percentage is 100.0\n"
     ]
    }
   ],
   "source": [
    "m1=eval(input(\"Enter the marks in sub 1 :\"))\n",
    "m2=eval(input(\"Enter the marks in sub 2 :\"))\n",
    "m3=eval(input(\"Enter the marks in sub 3 :\"))\n",
    "m4=eval(input(\"Enter the marks in sub 4 :\"))\n",
    "m5=eval(input(\"Enter the marks in sub 5 :\"))\n",
    "total_marks=m1+m2+m3+m4+m5\n",
    "percentage=total_marks/5\n",
    "print(f\"The total marks is {total_marks} and percentage is {percentage}\")\n"
   ]
  },
  {
   "cell_type": "markdown",
   "id": "a97762d8-b11a-4ae0-aa88-d7970483726f",
   "metadata": {},
   "source": [
    "**Q4)Temperature of a city in Fahrenheit degrees is input through the keyboard. Write a program to convert this \n",
    "temperature into Centigrade degrees.**"
   ]
  },
  {
   "cell_type": "code",
   "execution_count": 13,
   "id": "531ee296-ec0e-43dc-835a-66af341a8091",
   "metadata": {},
   "outputs": [
    {
     "name": "stdin",
     "output_type": "stream",
     "text": [
      "Enter the temprature of the city in Fahrenheit degree : 34\n"
     ]
    },
    {
     "name": "stdout",
     "output_type": "stream",
     "text": [
      "The temprature of city in centigrade degree is 1.1111111111111112\n"
     ]
    }
   ],
   "source": [
    "Temprature=eval(input(\"Enter the temprature of the city in Fahrenheit degree :\"))\n",
    "centigrade=(Temprature-32)*5/9\n",
    "print(f\"The temprature of city in centigrade degree is {centigrade}\")"
   ]
  },
  {
   "cell_type": "markdown",
   "id": "794f36f4-62b8-4eb6-b885-6ec54816e18b",
   "metadata": {},
   "source": [
    "**Q5)The length & breadth of a rectangle and radius of a circle are input through the keyboard. Write a program \n",
    "to calculate the area & perimeter of the rectangle, and the area & circumference of the circle.**"
   ]
  },
  {
   "cell_type": "code",
   "execution_count": 15,
   "id": "1f8361f7-64b2-4495-af5f-74e90fd53cdc",
   "metadata": {},
   "outputs": [
    {
     "name": "stdin",
     "output_type": "stream",
     "text": [
      "Enter the breadth of rectangle 7\n",
      "Enter the length of rectangle 5\n",
      "Enter the radius of rectangle 3\n"
     ]
    },
    {
     "name": "stdout",
     "output_type": "stream",
     "text": [
      "The area of rectangle is 35 and the perimeter of rectangle is 24\n",
      "The area of circle is 28.259999999999998 and the circumferance of circle is 18.84\n"
     ]
    }
   ],
   "source": [
    "b=eval(input(\"Enter the breadth of rectangle\"))\n",
    "l=eval(input(\"Enter the length of rectangle\"))\n",
    "r=eval(input(\"Enter the radius of rectangle\"))\n",
    "rect_area=b*l\n",
    "p=2*(l+b)\n",
    "circl_area=3.14*r*r\n",
    "c=2*3.14*r\n",
    "print(f\"The area of rectangle is {rect_area} and the perimeter of rectangle is {p}\")\n",
    "print(f\"The area of circle is {circl_area} and the circumferance of circle is {c}\")"
   ]
  },
  {
   "cell_type": "markdown",
   "id": "71b3cafa-20b8-4fb4-91b8-4b6535647cf9",
   "metadata": {},
   "source": [
    "**Q6)Two numbers are input through the keyboard into two locations C and D. Write a program to interchange \n",
    "the contents of C and D.**"
   ]
  },
  {
   "cell_type": "code",
   "execution_count": 22,
   "id": "49461c90-e282-49c5-a399-a95af9e94f14",
   "metadata": {},
   "outputs": [
    {
     "name": "stdin",
     "output_type": "stream",
     "text": [
      "Enter the number1 : 5\n",
      "Enter the number2 : 2\n"
     ]
    },
    {
     "name": "stdout",
     "output_type": "stream",
     "text": [
      "Befor converting\n",
      " c-  5 d -  2\n",
      "After the converting\n",
      " c - 2 d - 5\n"
     ]
    }
   ],
   "source": [
    "c=eval(input(\"Enter the number1 :\"))\n",
    "d=eval(input(\"Enter the number2 :\"))\n",
    "print(\"Befor converting\\n c- \",c,\"d - \",d)\n",
    "temp=c\n",
    "c=d\n",
    "d=temp\n",
    "print(\"After the converting\\n c -\",c, \"d -\",d)\n"
   ]
  },
  {
   "cell_type": "markdown",
   "id": "69963185-d301-48e1-9160-3565ccc243a3",
   "metadata": {},
   "source": [
    "**Q7) If a five-digit number is input through the keyboard, write a program to reverse the number.**"
   ]
  },
  {
   "cell_type": "code",
   "execution_count": 52,
   "id": "9d010f08-d3e2-4b5c-82a1-e5a92924b450",
   "metadata": {},
   "outputs": [
    {
     "name": "stdin",
     "output_type": "stream",
     "text": [
      "Enter the five digit number : 12345\n"
     ]
    }
   ],
   "source": [
    "number=int(input(\"Enter the five digit number :\"))\n",
    "def reverse_number(number):\n",
    "    original_number = number\n",
    "    reverse = 0\n",
    "    while number > 0:\n",
    "        digit = number % 10\n",
    "        reverse = reverse * 10 + digit\n",
    "        number //= 10\n",
    "    print(f\"Original Number: {original_number}\")\n",
    "    print(f\"Reversed Number: {reverse}\")"
   ]
  },
  {
   "cell_type": "markdown",
   "id": "83eedbee-71a0-41aa-9104-992e9e7fc662",
   "metadata": {},
   "source": [
    "**Q8). If a four-digit number is input through the keyboard, write a program to obtain the sum of the first and last digit of this number.**"
   ]
  },
  {
   "cell_type": "code",
   "execution_count": 55,
   "id": "7e4f37ed-db04-4e0b-8d34-2d89b0c86034",
   "metadata": {},
   "outputs": [
    {
     "ename": "SyntaxError",
     "evalue": "unterminated string literal (detected at line 12) (2543288493.py, line 12)",
     "output_type": "error",
     "traceback": [
      "\u001b[1;36m  Cell \u001b[1;32mIn[55], line 12\u001b[1;36m\u001b[0m\n\u001b[1;33m    nr = eval(input(\"Please enter a 4 digit number made from 0\u001b[0m\n\u001b[1;37m                    ^\u001b[0m\n\u001b[1;31mSyntaxError\u001b[0m\u001b[1;31m:\u001b[0m unterminated string literal (detected at line 12)\n"
     ]
    }
   ],
   "source": [
    "result_list = []\n",
    "n\n",
    "else:\n",
    "    print(result_list)"
   ]
  },
  {
   "cell_type": "markdown",
   "id": "1ee5c8f5-d3e6-49f9-88a8-02a0641c36b4",
   "metadata": {},
   "source": [
    "**Q9)In a town, the percentage of men is 52. The percentage of total literacy is 48. If total percentage of literate \n",
    "men is 35 of the total population, write a program to find the total number of illiterate men and women if \n",
    "the population of the town is 80,000.**"
   ]
  },
  {
   "cell_type": "code",
   "execution_count": 42,
   "id": "8db3ec47-4148-4841-b2db-1a7e048214eb",
   "metadata": {},
   "outputs": [
    {
     "name": "stdout",
     "output_type": "stream",
     "text": [
      "Total Population          :  80000\n",
      "Total Mens                :  41600.0\n",
      "Total Womens              :  38400.0\n",
      "Total Literacy            :  38400.0\n",
      "Total Literacy Mens       :  14560.0\n",
      "Total Literacy Womens     :  23840.0\n",
      "Total Not Literacy Mens   :  27040.0\n",
      "Total Not Literacy Womens :  14560.0\n"
     ]
    }
   ],
   "source": [
    "pop=80000\n",
    "popmen=(52*pop)/100\n",
    "popwomen=pop-popmen\n",
    "poplit=(48*pop)/100\n",
    "litmen=(35*popmen)/100\n",
    "litwomen= poplit-litmen\n",
    "unlitmen=popmen-litmen\n",
    "unlitwomen=popwomen-litwomen\n",
    "print(\"Total Population          : \",pop)\n",
    "print(\"Total Mens                : \",popmen)\n",
    "print(\"Total Womens              : \",popwomen)\n",
    "print(\"Total Literacy            : \",poplit)\n",
    "print(\"Total Literacy Mens       : \",litmen)\n",
    "print(\"Total Literacy Womens     : \",litwomen)\n",
    "print(\"Total Not Literacy Mens   : \",unlitmen)\n",
    "print(\"Total Not Literacy Womens : \",unlitwomen)"
   ]
  },
  {
   "cell_type": "markdown",
   "id": "98c64542-a516-41f2-9a18-1f22df85a077",
   "metadata": {},
   "source": [
    "**Q10) A cashier has currency notes of denominations 10, 50 and 100. If the amount to be withdrawn is input \n",
    "through the keyboard in hundreds, find the total number of currency notes of each denomination the \n",
    "cashier will have to give to the withdrawer.**"
   ]
  },
  {
   "cell_type": "code",
   "execution_count": 41,
   "id": "dbb4939f-47cf-4d01-ad7b-afc278a56579",
   "metadata": {},
   "outputs": [
    {
     "name": "stdin",
     "output_type": "stream",
     "text": [
      "Enter the Amount to be Withdrawn : 70\n"
     ]
    },
    {
     "name": "stdout",
     "output_type": "stream",
     "text": [
      "No of Hundred Notes : 0\n",
      "No of Fifty Notes : 1\n",
      "No of Ten Notes : 2\n"
     ]
    }
   ],
   "source": [
    "amt = int(input(\"Enter the Amount to be Withdrawn :\"))\n",
    "hundred = amt//100\n",
    "amt = amt%100\n",
    "fifty = amt//50\n",
    "amt = amt%50\n",
    "ten = amt//10\n",
    "print(\"No of Hundred Notes :\",hundred)\n",
    "print(\"No of Fifty Notes :\",fifty)\n",
    "print(\"No of Ten Notes :\",ten)"
   ]
  },
  {
   "cell_type": "code",
   "execution_count": null,
   "id": "511e2d5e-61df-49f6-bade-5da5ddefa21a",
   "metadata": {},
   "outputs": [],
   "source": []
  }
 ],
 "metadata": {
  "kernelspec": {
   "display_name": "Python 3 (ipykernel)",
   "language": "python",
   "name": "python3"
  },
  "language_info": {
   "codemirror_mode": {
    "name": "ipython",
    "version": 3
   },
   "file_extension": ".py",
   "mimetype": "text/x-python",
   "name": "python",
   "nbconvert_exporter": "python",
   "pygments_lexer": "ipython3",
   "version": "3.11.7"
  }
 },
 "nbformat": 4,
 "nbformat_minor": 5
}
