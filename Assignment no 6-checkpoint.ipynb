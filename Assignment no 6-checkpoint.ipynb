{
 "cells": [
  {
   "cell_type": "markdown",
   "id": "89e13bff-6e13-4180-b001-ddb2d4caadac",
   "metadata": {},
   "source": [
    "**Assignment no 6**"
   ]
  },
  {
   "cell_type": "code",
   "execution_count": 2,
   "id": "93801992-9cca-4877-8c81-305e621f5ea9",
   "metadata": {},
   "outputs": [
    {
     "name": "stdout",
     "output_type": "stream",
     "text": [
      "num1 ia: 10\n",
      "num2 ia: 20\n",
      "the addition of 10 and 20 is : 30\n"
     ]
    }
   ],
   "source": [
    "#Case-1:\n",
    "def addition():\n",
    "    n=10\n",
    "    print(\"num1 ia:\",n)\n",
    "    n2=20\n",
    "    print(\"num2 ia:\",n2)\n",
    "    add=n+n2\n",
    "    print(f\"the addition of {n} and {n2} is : {add}\")\n",
    "\n",
    "addition()\n",
    "\n",
    "#initiallization variable a=100, b=200\n",
    "#calling function = addition()\n",
    "#running function = addition()"
   ]
  },
  {
   "cell_type": "code",
   "execution_count": 1,
   "id": "c554740e-ecfe-4ed5-b71e-b3133ea4dc96",
   "metadata": {},
   "outputs": [
    {
     "ename": "SyntaxError",
     "evalue": "non-default argument follows default argument (429956719.py, line 3)",
     "output_type": "error",
     "traceback": [
      "\u001b[1;36m  Cell \u001b[1;32mIn[1], line 3\u001b[1;36m\u001b[0m\n\u001b[1;33m    def average2(num1,num2=45,num3):\u001b[0m\n\u001b[1;37m                              ^\u001b[0m\n\u001b[1;31mSyntaxError\u001b[0m\u001b[1;31m:\u001b[0m non-default argument follows default argument\n"
     ]
    }
   ],
   "source": [
    "#Case-2\n",
    "# Defoult value in middle and first occures the errors.\n",
    "def average2(num1,num2=45,num3):\n",
    "    print(\"num1:\",num1)\n",
    "    print(\"num2:\",num2)\n",
    "    print(\"num3:\",num3)\n",
    "    avg=(num1+num2+num3)/3\n",
    "    print(f\"the average is : {avg}\")\n",
    "average2(10,20)\n",
    "\n",
    "#initiallization variable : num1,num2,num3\n",
    "#define variable \n",
    "#calling function = num1=10,num3=20\n",
    "#running function = average2()"
   ]
  },
  {
   "cell_type": "code",
   "execution_count": 3,
   "id": "628a5d3c-dec6-41d1-b252-34955f8523e9",
   "metadata": {},
   "outputs": [
    {
     "name": "stdout",
     "output_type": "stream",
     "text": [
      "num1: 10\n",
      "num2: 45\n",
      "num3: 20\n",
      "the average is : 25.0\n"
     ]
    }
   ],
   "source": [
    "#Case-3:\n",
    "#defoult value is always should be in last to work.\n",
    "def average2(num1,num3,num2=45):\n",
    "    print(\"num1:\",num1)\n",
    "    print(\"num2:\",num2)\n",
    "    print(\"num3:\",num3)\n",
    "    avg=(num1+num2+num3)/3\n",
    "    print(f\"the average is : {avg}\")\n",
    "average2(10,20)\n",
    "\n",
    "#initiallization variable: num1,num3,num2\n",
    "#define variable : num2=45\n",
    "#calling function = num1=10,num3=20\n",
    "#running function = average2()"
   ]
  },
  {
   "cell_type": "code",
   "execution_count": 4,
   "id": "38dca62e-4c09-4ab9-9630-c99535cd0b4e",
   "metadata": {},
   "outputs": [
    {
     "name": "stdout",
     "output_type": "stream",
     "text": [
      "2500\n"
     ]
    }
   ],
   "source": [
    "#case-4:\n",
    "def addition(n1,n2=600):\n",
    "    n2=2000\n",
    "    add=n1+n2\n",
    "    print(add)\n",
    "addition(500,1000)\n",
    "\n",
    "#initiallization variable: n1,n2=600\n",
    "#define variable = n2=2000\n",
    "#calling function = n1=500,n2=1000\n",
    "#running function = addition()"
   ]
  },
  {
   "cell_type": "code",
   "execution_count": 5,
   "id": "dce0f4a4-6854-40ba-9948-ab6df897fd05",
   "metadata": {},
   "outputs": [
    {
     "name": "stdout",
     "output_type": "stream",
     "text": [
      "2500\n"
     ]
    }
   ],
   "source": [
    "#case-5: here the no meaning of n2=3000\n",
    "def addition(n1,n2=600):\n",
    "    n2=2000\n",
    "    add=n1+n2\n",
    "    print(add)\n",
    "n2=3000\n",
    "addition(500,1000)\n",
    "\n",
    "#initiallization variable; n1, n2=600\n",
    "#define variable = n2=2000\n",
    "#calling function = n1=500,n2=1000\n",
    "#running function = addition()"
   ]
  },
  {
   "cell_type": "code",
   "execution_count": 6,
   "id": "c8c8b653-e542-4380-9716-4e2f4479a420",
   "metadata": {},
   "outputs": [
    {
     "name": "stdout",
     "output_type": "stream",
     "text": [
      "200\n"
     ]
    }
   ],
   "source": [
    "#Case-6\n",
    "# Local variable\n",
    "def mul():\n",
    "    a=10\n",
    "    b=20\n",
    "    mul=a*b\n",
    "    print(mul)\n",
    "mul()\n",
    "\n",
    "#initiallization variable a=100, b=200\n",
    "#define variable = a=10,b=20\n",
    "#calling function = no\n",
    "#running function = mul()"
   ]
  },
  {
   "cell_type": "code",
   "execution_count": 7,
   "id": "e326554e-3367-4ab0-85f0-9f49de5c8d20",
   "metadata": {},
   "outputs": [
    {
     "name": "stdout",
     "output_type": "stream",
     "text": [
      "2000\n"
     ]
    }
   ],
   "source": [
    "#Case-7\n",
    "# Global variable\n",
    "a=10\n",
    "b=200\n",
    "def mul1():\n",
    "    mul=a*b\n",
    "    print(mul)\n",
    "mul1()\n",
    "\n",
    "#initiallization variable a=10, b=200\n",
    "#define variable = no\n",
    "#calling function = no\n",
    "#running function = mul()"
   ]
  },
  {
   "cell_type": "code",
   "execution_count": 8,
   "id": "68ad58a7-d177-4fe1-96fe-12780d6ae0b9",
   "metadata": {},
   "outputs": [
    {
     "name": "stdout",
     "output_type": "stream",
     "text": [
      "300\n"
     ]
    }
   ],
   "source": [
    "# Case-8 :\n",
    "a=100\n",
    "b=200\n",
    "def add11():\n",
    "    add=a+b\n",
    "    print(add)\n",
    "add11()\n",
    "\n",
    "#initiallization variable: a=100, b=200\n",
    "#define variable : no\n",
    "#calling function : no\n",
    "#running function : add11()"
   ]
  },
  {
   "cell_type": "code",
   "execution_count": 9,
   "id": "a35187ab-243e-4298-8edc-17877c25219b",
   "metadata": {},
   "outputs": [
    {
     "name": "stdout",
     "output_type": "stream",
     "text": [
      "1200\n"
     ]
    }
   ],
   "source": [
    "# Case- 9:\n",
    "a=100\n",
    "b=200\n",
    "def add11(a=1000):\n",
    "    add=a+b\n",
    "    print(add)\n",
    "add11()\n",
    "\n",
    "#initiallization variable: a=100, b=200\n",
    "#define variable : no()\n",
    "#calling function : no\n",
    "#running function : add11()"
   ]
  },
  {
   "cell_type": "code",
   "execution_count": 13,
   "id": "77204d04-1b95-4d92-ac37-f081caf12265",
   "metadata": {},
   "outputs": [
    {
     "ename": "TypeError",
     "evalue": "add11() got an unexpected keyword argument 'b'",
     "output_type": "error",
     "traceback": [
      "\u001b[1;31m---------------------------------------------------------------------------\u001b[0m",
      "\u001b[1;31mTypeError\u001b[0m                                 Traceback (most recent call last)",
      "Cell \u001b[1;32mIn[13], line 7\u001b[0m\n\u001b[0;32m      5\u001b[0m     add\u001b[38;5;241m=\u001b[39ma\u001b[38;5;241m+\u001b[39mb\n\u001b[0;32m      6\u001b[0m     \u001b[38;5;28mprint\u001b[39m(add)\n\u001b[1;32m----> 7\u001b[0m add11(a\u001b[38;5;241m=\u001b[39m\u001b[38;5;241m1000\u001b[39m,b\u001b[38;5;241m=\u001b[39m\u001b[38;5;241m2000\u001b[39m)\n",
      "\u001b[1;31mTypeError\u001b[0m: add11() got an unexpected keyword argument 'b'"
     ]
    }
   ],
   "source": [
    "# Case- 10:\n",
    "a=100\n",
    "b=200\n",
    "def add11(a=1000):\n",
    "    add=a+b\n",
    "    print(add)\n",
    "add11(a=1000,b=2000)\n",
    "\n",
    "#initiallization variable: a=100, b=200\n",
    "#define variable : a=1000\n",
    "#calling function : a=1000,b=2000\n",
    "#running function : add11()"
   ]
  },
  {
   "cell_type": "code",
   "execution_count": 11,
   "id": "8a885896-3c4e-4869-8c47-3f0adcd4ad2e",
   "metadata": {},
   "outputs": [
    {
     "name": "stdout",
     "output_type": "stream",
     "text": [
      "2200\n"
     ]
    }
   ],
   "source": [
    "# Case-11:\n",
    "a=100\n",
    "          # globle variable\n",
    "b=200\n",
    "def add11(a=1000,b=3000):\n",
    "    add=a+b\n",
    "    print(add)\n",
    "a=1000 # global variable\n",
    "add11(b=1200)\n",
    "\n",
    "#initiallization variable: a=100, b=200\n",
    "#define variable : a=1000,b=3000\n",
    "#calling function : b=1200\n",
    "#running function : addition()"
   ]
  },
  {
   "cell_type": "code",
   "execution_count": 12,
   "id": "7ceff947-2618-4a68-ac09-f57265a1b754",
   "metadata": {},
   "outputs": [
    {
     "name": "stdout",
     "output_type": "stream",
     "text": [
      "6200\n"
     ]
    }
   ],
   "source": [
    "# Case-12 :\n",
    "a=100  \n",
    "b=200\n",
    "def add11(a=1000,b=3000):\n",
    "    a=5000  # local variable \n",
    "    add=a+b\n",
    "    print(add)\n",
    "add11(b=1200)\n",
    "\n",
    "#initiallization variable :a=100, b=200\n",
    "#define variable : a=5000\n",
    "#calling function : b=1200\n",
    "#running function : addition()"
   ]
  },
  {
   "cell_type": "code",
   "execution_count": null,
   "id": "8f14e4e3-afd8-4013-ac8e-63330f93a646",
   "metadata": {},
   "outputs": [],
   "source": []
  }
 ],
 "metadata": {
  "kernelspec": {
   "display_name": "Python 3 (ipykernel)",
   "language": "python",
   "name": "python3"
  },
  "language_info": {
   "codemirror_mode": {
    "name": "ipython",
    "version": 3
   },
   "file_extension": ".py",
   "mimetype": "text/x-python",
   "name": "python",
   "nbconvert_exporter": "python",
   "pygments_lexer": "ipython3",
   "version": "3.11.7"
  }
 },
 "nbformat": 4,
 "nbformat_minor": 5
}
