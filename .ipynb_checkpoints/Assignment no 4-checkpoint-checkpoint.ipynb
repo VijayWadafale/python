{
 "cells": [
  {
   "cell_type": "code",
   "execution_count": 1,
   "id": "fddbf858-7a7b-4676-8b08-0adf974ad65c",
   "metadata": {},
   "outputs": [
    {
     "name": "stdin",
     "output_type": "stream",
     "text": [
      "Enter the number :  20\n"
     ]
    },
    {
     "name": "stdout",
     "output_type": "stream",
     "text": [
      "the 20 is even\n"
     ]
    }
   ],
   "source": [
    "# wap ask the user enter a number\n",
    "# find it is a even number or odd number\n",
    "# idea: any number divide by 2 , the remiander=0\n",
    "#       it is called as even number\n",
    "num=eval(input(\"Enter the number : \"))\n",
    "if num%2==0:\n",
    "    print(f\"the {num} is even\")\n",
    "else:\n",
    "     print(f\"the {num} is odd\")"
   ]
  },
  {
   "cell_type": "code",
   "execution_count": 3,
   "id": "0330cb40-3980-41db-ad76-10bf69eaec4e",
   "metadata": {},
   "outputs": [
    {
     "name": "stdin",
     "output_type": "stream",
     "text": [
      "Enter the number :  67\n"
     ]
    },
    {
     "name": "stdout",
     "output_type": "stream",
     "text": [
      "the 67 is odd\n"
     ]
    }
   ],
   "source": [
    "# Implement the above problem by taking a random input  between  1, 100\n",
    "import random\n",
    "random.randint(1,100)\n",
    "num=eval(input(\"Enter the number : \"))\n",
    "if num%2==0:\n",
    "    print(f\"the {num} is even\")\n",
    "else:\n",
    "     print(f\"the {num} is odd\")"
   ]
  },
  {
   "cell_type": "code",
   "execution_count": 14,
   "id": "b661b8f8-294e-45e8-81c6-e42d5e89da52",
   "metadata": {},
   "outputs": [
    {
     "name": "stdin",
     "output_type": "stream",
     "text": [
      "enter the distance in km :  23\n"
     ]
    },
    {
     "name": "stdout",
     "output_type": "stream",
     "text": [
      "enjoy thr ride\n"
     ]
    }
   ],
   "source": [
    "# wap ask the user enter the distance\n",
    "# if distance greater than 25km\n",
    "#      then enter the charge\n",
    "#      print the total cost\n",
    "#otherwise\n",
    "#      print free ride\n",
    "distance=eval(input(\"enter the distance in km : \"))\n",
    "if distance>25:\n",
    "   charge=eval(input(\"enter the charge in rs : \"))\n",
    "   cost=distance*charge\n",
    "   print(\"the total cost is:\",cost)\n",
    "else:\n",
    "    print(\"enjoy thr ride\")"
   ]
  },
  {
   "cell_type": "code",
   "execution_count": 15,
   "id": "6cb0a403-2044-4225-a9e9-787f7e4680bb",
   "metadata": {},
   "outputs": [
    {
     "name": "stdin",
     "output_type": "stream",
     "text": [
      "enter the distance in km :  44\n",
      "enter the distance in km :  40\n",
      "enter the charge in rs :  70\n"
     ]
    },
    {
     "name": "stdout",
     "output_type": "stream",
     "text": [
      "the total charge is: 280\n"
     ]
    }
   ],
   "source": [
    "# wap ask the user enter the distance\n",
    "# cutoff distance enter 25\n",
    "# if distance greater than 25km\n",
    "#      print(\"good news your charge is aplicable for only remaining of 25\")\n",
    "#      chargeble distance= distance-cutoff\n",
    "#      then enter the charge\n",
    "#      print the total cost\n",
    "#otherwise\n",
    "#      print free ride\n",
    "distance=eval(input(\"enter the distance in km : \"))\n",
    "cutoff_distance=eval(input(\"enter the distance in km : \"))\n",
    "if distance>cutoff_distance:\n",
    "    chargeble_distance=distance-cutoff_distance\n",
    "    charge=eval(input(\"enter the charge in rs : \"))\n",
    "    cost=chargeble_distance*charge\n",
    "    print(\"the total charge is:\",cost)\n",
    "else:\n",
    "    print(\"enjoy thr ride\")"
   ]
  },
  {
   "cell_type": "code",
   "execution_count": 16,
   "id": "b6817869-a65f-4008-a95b-79be100feeec",
   "metadata": {},
   "outputs": [
    {
     "name": "stdin",
     "output_type": "stream",
     "text": [
      "enter the cource :  cyber security\n",
      "enter the institude :  yedureka\n"
     ]
    },
    {
     "name": "stdout",
     "output_type": "stream",
     "text": [
      "bad\n"
     ]
    }
   ],
   "source": [
    "# wap ask the user enter the course\n",
    "# ask the user enter the Institute\n",
    "# if the course equal to data science and institute equal to naresh it\n",
    "#     then you are good\n",
    "# otherwise\n",
    "#     you are bad\n",
    "course=input(\"enter the cource : \")\n",
    "institude=input(\"enter the institude : \")\n",
    "if course=='data science'and institude=='naresh it':\n",
    "    print(\"good\")\n",
    "else:\n",
    "    print(\"bad\")"
   ]
  },
  {
   "cell_type": "code",
   "execution_count": 17,
   "id": "036ae877-7405-4d5d-9926-418d0b52aa8c",
   "metadata": {},
   "outputs": [
    {
     "name": "stdout",
     "output_type": "stream",
     "text": [
      "7\n"
     ]
    },
    {
     "name": "stdin",
     "output_type": "stream",
     "text": [
      "enter the  number2: 6\n"
     ]
    },
    {
     "name": "stdout",
     "output_type": "stream",
     "text": [
      "you lost\n"
     ]
    }
   ],
   "source": [
    "# wap ask the user enter a random number between 1 to 10, treat this as number1\n",
    "# ask the user enter another number from keyboard, treat this as number2\n",
    "# if number1 equal to number2\n",
    "#     print you won\n",
    "# otherwise\n",
    "#     print you lost\n",
    "import random\n",
    "print(7)\n",
    "num1=random.randint(1,10)\n",
    "num2=eval(input(\"enter the  number2:\"))\n",
    "if num1==num2:\n",
    "    print(\"you won\")\n",
    "else:\n",
    "    print(\"you lost\")"
   ]
  },
  {
   "cell_type": "code",
   "execution_count": 19,
   "id": "43968637-541a-47df-9ac6-449d0cb1f1d3",
   "metadata": {},
   "outputs": [
    {
     "name": "stdin",
     "output_type": "stream",
     "text": [
      "enter the number: 2\n"
     ]
    },
    {
     "name": "stdout",
     "output_type": "stream",
     "text": [
      "two\n"
     ]
    }
   ],
   "source": [
    "# wap ask the user enter number\n",
    "# if number equal to 1 then print one\n",
    "# if number equal to 2 then print two\n",
    "# if number equal to 3 then print three\n",
    "# otherwise  print enter a valid number\n",
    "\n",
    "num=eval(input(\"enter the number:\"))\n",
    "if num==1:\n",
    "    print(\"one\")\n",
    "elif num==2:\n",
    "    print(\"two\")\n",
    "elif num==3:\n",
    "    print(\"three\")\n",
    "else:\n",
    "    print(\"enter the valid number\")"
   ]
  },
  {
   "cell_type": "code",
   "execution_count": 20,
   "id": "25086047-299c-49c0-8cfe-8b80bdbf7f97",
   "metadata": {},
   "outputs": [
    {
     "name": "stdin",
     "output_type": "stream",
     "text": [
      "enter the number: 21\n"
     ]
    },
    {
     "name": "stdout",
     "output_type": "stream",
     "text": [
      "positive\n"
     ]
    }
   ],
   "source": [
    "# wap ask the user enter a number\n",
    "# if that number greater than zero print postive\n",
    "# if that number less than zero print negative\n",
    "# otherwise print zero\n",
    "num=eval(input(\"enter the number:\"))\n",
    "if num>0:\n",
    "    print(\"positive\")\n",
    "elif num<0:\n",
    "        print(\"negaitive\")\n",
    "else:\n",
    "          print(\"zero\")"
   ]
  },
  {
   "cell_type": "code",
   "execution_count": 28,
   "id": "cda3e159-d572-473f-b9bc-834a22d551a6",
   "metadata": {},
   "outputs": [
    {
     "name": "stdin",
     "output_type": "stream",
     "text": [
      "enter the percentage: 89\n"
     ]
    },
    {
     "name": "stdout",
     "output_type": "stream",
     "text": [
      "B grade\n"
     ]
    }
   ],
   "source": [
    "# WAP ask the user enter the percentage of marks 0 to 100\n",
    "# if percentagw gretaer than 90  print A garde\n",
    "# if percentage between 75 to 90 print B garde\n",
    "# if percentage between 50 to 75 print C grade\n",
    "# if percentage between 35 to 50 print D grade\n",
    "# if percentage less than 35 print Fail\n",
    "pct=eval(input(\"enter the percentage:\"))\n",
    "percentage=random.randint(0,100)\n",
    "if pct>90:\n",
    "    print(\"A grade\")\n",
    "elif pct<90:\n",
    "    print(\"B grade\")\n",
    "elif pct==50:\n",
    "    print(\"C grade\")\n",
    "else:\n",
    "    print(\"fail\")\n",
    "    "
   ]
  },
  {
   "cell_type": "code",
   "execution_count": 50,
   "id": "f9491e51-0e6e-4763-9299-d69cb3e94845",
   "metadata": {},
   "outputs": [
    {
     "name": "stdin",
     "output_type": "stream",
     "text": [
      "enter the age: 102\n"
     ]
    },
    {
     "name": "stdout",
     "output_type": "stream",
     "text": [
      "you are luky\n"
     ]
    }
   ],
   "source": [
    "# WAP ask the user enter the age\n",
    "# if the age greater tahn 100 print you are lucky\n",
    "# if the age gretaer than 75 print old age\n",
    "# if the age  between 50 to 75 print ss\n",
    "# if the age between  30 tp 50 print MA\n",
    "# if the age between  15 to 30 print young age\n",
    "# if the afe between less than 15 print kid\n",
    "age=eval(input(\"enter the age:\"))\n",
    "if age>100:\n",
    "    print(\"you are luky\")\n",
    "elif age<-75:\n",
    "    print(\"old age\")\n",
    "elif age<=75:\n",
    "    print(\"ss\")\n",
    "elif age30>=50:\n",
    "    print(\"ma\")\n",
    "elif agr15>=30:\n",
    "    print(\"young agr\")\n",
    "elif age>=15:\n",
    "    print(\"kid\")"
   ]
  },
  {
   "cell_type": "code",
   "execution_count": 1,
   "id": "2ed9cdd8-796c-4f6f-9eac-5145092236ca",
   "metadata": {},
   "outputs": [
    {
     "name": "stdout",
     "output_type": "stream",
     "text": [
      "hello world\n"
     ]
    }
   ],
   "source": [
    "c=\"hello world\"\n",
    "print(c)"
   ]
  },
  {
   "cell_type": "code",
   "execution_count": null,
   "id": "682c0ae6-a694-475b-961e-dd4a76b2799c",
   "metadata": {},
   "outputs": [],
   "source": []
  }
 ],
 "metadata": {
  "kernelspec": {
   "display_name": "Python 3 (ipykernel)",
   "language": "python",
   "name": "python3"
  },
  "language_info": {
   "codemirror_mode": {
    "name": "ipython",
    "version": 3
   },
   "file_extension": ".py",
   "mimetype": "text/x-python",
   "name": "python",
   "nbconvert_exporter": "python",
   "pygments_lexer": "ipython3",
   "version": "3.11.7"
  }
 },
 "nbformat": 4,
 "nbformat_minor": 5
}
